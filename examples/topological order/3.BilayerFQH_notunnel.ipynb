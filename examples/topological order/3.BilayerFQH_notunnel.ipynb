{
 "cells": [
  {
   "cell_type": "markdown",
   "metadata": {},
   "source": [
    "### Torus Geometry\n",
    "- **Triangular unit cell**: Primitive vectors |G₁|=|G₂| with 120 degree in between\n",
    "- **Landau level**: n = 0 (lowest Landau level)\n",
    "- **Brillouin zone area**: 2π/l² = √0.75 × G²\n",
    "- **Magnetic length**: l = √(ℏ/eB) sets the length scale\n",
    "\n",
    "### Bilayer Parameters\n",
    "- **Nc_conserved = 2**: Number of layers (components)\n",
    "- **Inter-layer distance**: d/l\n",
    "- **Tunneling amplitude**: t/W0 = 0.0\n",
    "- **Displacement field**: ΔE/W0, energy difference between layers\n",
    "\n",
    "### Interaction Details\n",
    "- **Layer conservation**: Interactions preserve layer index of each particle\n",
    "- **Layer symmetric**: Interactions unchanged if swap the two layer indices\n",
    "- **Gate Screening**: D/l\n",
    "- **Different-layer interaction**: Includes e^{-ql*d/l} attenuation factor\n",
    "- **Form factor**: See arXiv.2509.07784 Eq.(A28) "
   ]
  },
  {
   "cell_type": "code",
   "execution_count": null,
   "metadata": {},
   "outputs": [],
   "source": [
    "# These packages are not included in the MomentumED package. \n",
    "# Use the following line to add them:\n",
    "# using Pkg; Pkg.add(\"CairoMakie\"); Pkg.add(\"QuadGK\"); Pkg.add(\"ClassicalOrthogonalPolynomials\")\n",
    "\n",
    "# Import the momentum-conserved exact diagonalization package\n",
    "using MomentumED\n",
    "include(\"Landau level triangular.jl\")\n",
    "using .LLT\n",
    "\n",
    "using CairoMakie # for plotting\n",
    "CairoMakie.activate!()\n",
    "\n",
    "# Plot the energy spectrum\n",
    "function plot_ed_spectrum()\n",
    "    fig = Figure();\n",
    "    ax = Axis(fig[1, 1];\n",
    "        xlabel = \"$(Gk[2])k1+k2\",\n",
    "        ylabel = \"Energy per unit cell (W₀ = e²/ϵl)\"\n",
    "    )\n",
    "    ax_top = Axis(fig[1, 1];\n",
    "        xlabel = \"momentum block number\",\n",
    "        xaxisposition = :top\n",
    "    )\n",
    "    top_ticks = ([], [])\n",
    "    hidespines!(ax_top)\n",
    "    hidexdecorations!(ax_top; label = false, ticklabels = false)\n",
    "    hideydecorations!(ax_top)\n",
    "    linkxaxes!(ax, ax_top)\n",
    "\n",
    "    # Plot energy levels for each momentum block\n",
    "    for i in 1:length(blocks)\n",
    "        x = Gk[2] * block_k1[i] + block_k2[i]\n",
    "        push!(top_ticks[1], x)\n",
    "        push!(top_ticks[2], string(i))\n",
    "        for e in energies[i]\n",
    "            scatter!(ax, x, e/Nk/LLT.W0, color = :blue, marker=:hline)\n",
    "        end\n",
    "    end\n",
    "    ax_top.xticks = top_ticks\n",
    "    fig\n",
    "end"
   ]
  },
  {
   "cell_type": "code",
   "execution_count": null,
   "metadata": {},
   "outputs": [],
   "source": [
    "#=\n",
    "\n",
    "# Define k-mesh for bilayer system (4×3 mesh, Nk=12) in triangular lattice\n",
    "k_list = [0 1 2 3 0 1 2 3 0 1 2 3;\n",
    "          0 0 0 0 1 1 1 1 2 2 2 2]\n",
    "Nk = 12\n",
    "Gk = (4, 3)  # Grid dimensions\n",
    "\n",
    "\n",
    "# number of electrons in each layer\n",
    "Ne1 = 3\n",
    "Ne2 = 3\n",
    "\n",
    "# Number of layers (components) for bilayer system\n",
    "Nc_conserve = 2\n",
    "\n",
    "=#"
   ]
  },
  {
   "cell_type": "code",
   "execution_count": null,
   "metadata": {},
   "outputs": [],
   "source": [
    "# Define k-mesh for bilayer system (4×4 mesh, Nk=16) in triangular lattice\n",
    "k_list = [0 1 2 3 0 1 2 3 0 1 2 3 0 1 2 3;\n",
    "          0 0 0 0 1 1 1 1 2 2 2 2 3 3 3 3]\n",
    "Nk = 16\n",
    "Gk = (4, 4)  # Grid dimensions\n",
    "\n",
    "# number of electrons in each layer\n",
    "Ne1 = 4\n",
    "Ne2 = 4\n",
    "\n",
    "# Number of layers (components) for bilayer system\n",
    "Nc_conserve = 2"
   ]
  },
  {
   "cell_type": "code",
   "execution_count": null,
   "metadata": {},
   "outputs": [],
   "source": [
    "# Interaction parameters\n",
    "\n",
    "# Coulomb\n",
    "LLT.W0 = 1.0                   # Interaction strength\n",
    "LLT.D_l = 10.0                  # Screening length D/l\n",
    "LLT.d_l = 0.1                  # Inter-layer distance d/l\n",
    "# compute the pseudo-potential components\n",
    "intra_PP = LLT.pseudo_potential_decomposition.(0:15, LLT.V_Coulomb_bilayer; SameLayer = true)\n",
    "inter_PP = LLT.pseudo_potential_decomposition.(0:15, LLT.V_Coulomb_bilayer; SameLayer = false)\n",
    "@show intra_PP\n",
    "@show inter_PP\n",
    "\n",
    "# Haldane\n",
    "LLT.V_intra = [0.0; 0.8; 0.0; 0.4]          # Intralayer Haldane pseudo-potential in unit of W0\n",
    "LLT.V_inter = [1.5; 0.7; 0.5; 0.4]          # Interlayer Haldane pseudo-potential in unit of W0\n",
    "\n",
    "# or use Coulomb interaction with a cutoff in m\n",
    "# LLT.V_intra = copy(intra_PP)\n",
    "# LLT.V_inter = copy(inter_PP)\n",
    "\n",
    "# choose a linear mixing between Haldane and Coulomb interaction\n",
    "LLT.mix = 0                  # mix * Haldane + (1-mix) * Coulomb"
   ]
  },
  {
   "cell_type": "code",
   "execution_count": null,
   "metadata": {},
   "outputs": [],
   "source": [
    "ΔE = 0 * LLT.W0                # Energy difference between the two layers\n",
    "\n",
    "# Set up one-body Hamiltonian matrix for inter-layer tunneling\n",
    "# H_onebody[c1, c2, cc, k] : no hopping from component c2 to c1\n",
    "# For bilayer system: Nc_hopping=1, Nc_conserve=2, Nk=6\n",
    "H_onebody_bilayer_no_tunneling = zeros(ComplexF64, 1, 1, Nc_conserve, Nk)\n",
    "# Add energy difference terms: ΔE = 0.5 * W0 between different layers\n",
    "# No tunneling\n",
    "for k_idx in 1:Nk\n",
    "    H_onebody_bilayer_no_tunneling[1, 1, 1, k_idx] = 0.5ΔE\n",
    "    H_onebody_bilayer_no_tunneling[1, 1, 2, k_idx] = -0.5ΔE\n",
    "end\n",
    "\n",
    "# Create parameter structure for bilayer system\n",
    "para_conserve = EDPara(\n",
    "    k_list = k_list, \n",
    "    Gk = Gk, \n",
    "    Nc_hopping = 1,\n",
    "    Nc_conserve = Nc_conserve,\n",
    "    H_onebody = H_onebody_bilayer_no_tunneling,\n",
    "    V_int = LLT.LandauInteraction(\n",
    "        interaction = :mix,            # use mixing interaction\n",
    "        layer_number = 2,              # bilayer\n",
    "        level_index = 0,               # n=0 Landau level\n",
    "    ),\n",
    "    FF_inf_angle = LLT.Landau_ff_inf,\n",
    ");"
   ]
  },
  {
   "cell_type": "code",
   "execution_count": null,
   "metadata": {},
   "outputs": [],
   "source": [
    "# Create momentum blocks for bilayer system\n",
    "blocks, block_k1, block_k2, k0number = \n",
    "    ED_momentum_block_division(para_conserve, ED_mbslist(para_conserve, (Ne1, Ne2)));\n",
    "length.(blocks)"
   ]
  },
  {
   "cell_type": "code",
   "execution_count": null,
   "metadata": {},
   "outputs": [],
   "source": [
    "# Generate scattering lists for efficient Hamiltonian construction\n",
    "scat_list1 = ED_sortedScatteringList_onebody(para_conserve);\n",
    "scat_list2 = ED_sortedScatteringList_twobody(para_conserve);"
   ]
  },
  {
   "cell_type": "code",
   "execution_count": null,
   "metadata": {},
   "outputs": [],
   "source": [
    "Neigen = 10\n",
    "energies = Vector{Vector{Float64}}(undef, length(blocks))\n",
    "vectors = Vector{Vector{Vector{ComplexF64}}}(undef, length(blocks))\n",
    "for i in eachindex(blocks)\n",
    "    println(\"Processing block #$i with size $(length(blocks[i])), momentum $(block_k1[i]), $(block_k2[i])\")\n",
    "    energies[i], vectors[i] = EDsolve(blocks[i], scat_list2, scat_list1; \n",
    "        N = Neigen, showtime=true,\n",
    "    )\n",
    "end"
   ]
  },
  {
   "cell_type": "code",
   "execution_count": null,
   "metadata": {},
   "outputs": [],
   "source": [
    "plot_ed_spectrum()"
   ]
  },
  {
   "cell_type": "code",
   "execution_count": null,
   "metadata": {},
   "outputs": [],
   "source": [
    "# check energies explicitly to see degeneracy.\n",
    "\n",
    "bn = 1 # the block number to inspect\n",
    "println(\"total momentum: \", block_k1[bn], \"  \", block_k2[bn])\n",
    "energies[bn]/Nk/LLT.W0"
   ]
  },
  {
   "cell_type": "markdown",
   "metadata": {},
   "source": [
    "Compute and plot one-body reduced density matrix"
   ]
  },
  {
   "cell_type": "code",
   "execution_count": null,
   "metadata": {},
   "outputs": [],
   "source": [
    "# plot the reduced density matrix of the ground eigenstate in the first block\n",
    "rdm = ED_onebody_rdm(blocks[bn], vectors[bn][1])\n",
    "\n",
    "fig = Figure();\n",
    "ax = Axis(fig[1, 1]; yreversed = true)\n",
    "hm = heatmap!(ax, abs.(rdm); colorrange = (0,1), \n",
    "    colormap = range(Makie.Colors.colorant\"white\", stop=Makie.Colors.colorant\"#ec2f41\", length=15)\n",
    ")\n",
    "Colorbar(fig[1, 2], hm)\n",
    "fig"
   ]
  },
  {
   "cell_type": "markdown",
   "metadata": {},
   "source": [
    "Compute the many-body connection and the Wilson loop for many-body Chern number."
   ]
  },
  {
   "cell_type": "code",
   "execution_count": null,
   "metadata": {},
   "outputs": [],
   "source": [
    "# twist angle path for the Wilson loop integral\n",
    "N_shift = 3  # number of shifts along each edge\n",
    "path = Tuple{Float64, Float64}[(0.0, 0.0)]\n",
    "for i in 1:N_shift\n",
    "    push!(path, (i/N_shift, 0.0))\n",
    "end\n",
    "for i in 1:N_shift\n",
    "    push!(path, (1.0, i/N_shift))\n",
    "end\n",
    "for i in 1:N_shift\n",
    "    push!(path, ((N_shift - i)/N_shift, 1.0))\n",
    "end\n",
    "for i in 1:N_shift\n",
    "    push!(path, (0.0, (N_shift - i)/N_shift))\n",
    "end\n",
    "path"
   ]
  },
  {
   "cell_type": "code",
   "execution_count": null,
   "metadata": {},
   "outputs": [],
   "source": [
    "bn = 1                     # block number\n",
    "nstates = 1                # number of degenerating states\n",
    "\n",
    "psi_before = reduce(hcat, vectors[bn][1:nstates])\n",
    "ED_connection_gaugefixing!(psi_before, [1000])  # fix global phase\n",
    "psi_after = similar(psi_before)\n",
    "\n",
    "WilsonLoopIntegral= Vector{Float64}(undef, 4N_shift)\n",
    "for i in eachindex(WilsonLoopIntegral)\n",
    "\n",
    "    println(\"path point #$i \\t $(path[i+1])\")\n",
    "\n",
    "    scat_list = ED_sortedScatteringList_twobody(para_conserve; kshift = path[i+1]);\n",
    "    vecs = EDsolve(blocks[bn], scat_list; N = 6,\n",
    "        showtime = false,\n",
    "    )[2][1:nstates]\n",
    "    psi_after .= reduce(hcat, vecs)\n",
    "    ED_connection_gaugefixing!(psi_after, [1000])  # fix global phase\n",
    "\n",
    "    WilsonLoopIntegral[i] = ED_connection_step(blocks[bn], \n",
    "        psi_after, psi_before, path[i+1], path[i], para_conserve;\n",
    "        wavefunction_tol = 1e-8, print_amp = true,\n",
    "        amp_warn_tol = 0.7, amp_warn = true\n",
    "    )\n",
    "\n",
    "    psi_before .= psi_after\n",
    "end\n",
    "ManyBodyChernNumber = sum(WilsonLoopIntegral) / (2π)\n"
   ]
  }
 ],
 "metadata": {
  "kernelspec": {
   "display_name": "Julia 1.11.7",
   "language": "julia",
   "name": "julia-1.11"
  },
  "language_info": {
   "file_extension": ".jl",
   "mimetype": "application/julia",
   "name": "julia",
   "version": "1.11.7"
  }
 },
 "nbformat": 4,
 "nbformat_minor": 4
}
