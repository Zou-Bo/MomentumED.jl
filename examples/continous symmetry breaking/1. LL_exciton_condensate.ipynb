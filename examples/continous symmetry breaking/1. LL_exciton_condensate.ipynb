{
 "cells": [
  {
   "cell_type": "code",
   "execution_count": 1,
   "id": "755b28ef",
   "metadata": {},
   "outputs": [
    {
     "data": {
      "text/plain": [
       "plot_ed_spectrum (generic function with 1 method)"
      ]
     },
     "metadata": {},
     "output_type": "display_data"
    }
   ],
   "source": [
    "# These packages are not included in the MomentumED package. \n",
    "# Use the following line to add them:\n",
    "# using Pkg; Pkg.add(\"CairoMakie\"); Pkg.add(\"QuadGK\"); Pkg.add(\"ClassicalOrthogonalPolynomials\")\n",
    "\n",
    "# Import the momentum-conserved exact diagonalization package\n",
    "using MomentumED\n",
    "include(\"Landau level triangular.jl\")\n",
    "using .LLT\n",
    "\n",
    "using CairoMakie # for plotting\n",
    "CairoMakie.activate!()\n",
    "\n",
    "# Plot the energy spectrum\n",
    "function plot_ed_spectrum()\n",
    "    fig = Figure();\n",
    "    ax = Axis(fig[1, 1];\n",
    "        xlabel = \"$(Gk[2])k1+k2\",\n",
    "        ylabel = \"Energy per unit cell (W₀ = e²/ϵl)\"\n",
    "    )\n",
    "    ax_top = Axis(fig[1, 1];\n",
    "        xlabel = \"momentum block number\",\n",
    "        xaxisposition = :top\n",
    "    )\n",
    "    top_ticks = ([], [])\n",
    "    hidespines!(ax_top)\n",
    "    hidexdecorations!(ax_top; label = false, ticklabels = false)\n",
    "    hideydecorations!(ax_top)\n",
    "    linkxaxes!(ax, ax_top)\n",
    "\n",
    "    # Plot energy levels for each momentum block\n",
    "    for i in 1:length(blocks)\n",
    "        x = Gk[2] * block_k1[i] + block_k2[i]\n",
    "        push!(top_ticks[1], x)\n",
    "        push!(top_ticks[2], string(i))\n",
    "        for e in energies[i]\n",
    "            scatter!(ax, x, e/Nk/LLT.W0, color = :blue, marker=:hline)\n",
    "        end\n",
    "    end\n",
    "    ax_top.xticks = top_ticks\n",
    "    fig\n",
    "end"
   ]
  },
  {
   "cell_type": "code",
   "execution_count": 2,
   "id": "9de9c937",
   "metadata": {},
   "outputs": [
    {
     "data": {
      "text/plain": [
       "2"
      ]
     },
     "metadata": {},
     "output_type": "display_data"
    }
   ],
   "source": [
    "# Define k-mesh for bilayer system (4×3 mesh, Nk=12) in triangular lattice\n",
    "k_list = [0 1 2 3 0 1 2 3 0 1 2 3;\n",
    "          0 0 0 0 1 1 1 1 2 2 2 2]\n",
    "Nk = 12\n",
    "Gk = (4, 3)  # Grid dimensions\n",
    "\n",
    "\n",
    "# number of electrons in each layer\n",
    "Ne1 = 6\n",
    "Ne2 = 6\n",
    "\n",
    "# Number of layers (components) for bilayer system\n",
    "Nc_conserve = 2"
   ]
  },
  {
   "cell_type": "code",
   "execution_count": null,
   "id": "47e58e44",
   "metadata": {},
   "outputs": [
    {
     "name": "stdout",
     "output_type": "stream",
     "text": [
      "intra_PP = [1.6347066215405632, 0.7493532823751158, 0.5286565941067406, 0.41872505368204593, 0.3503224973226579, 0.3026782860863603, 0.2671381550406759, 0.2393751098165452, 0.21695533203249928, 0.19839158716928695, 0.18271725829183577, 0.16927336306332738, 0.15759318809374134, 0.1473357319489056, 0.13824529565043234, 0.13012589008205516]\n",
      "inter_PP = [1.538982326541291, 0.7473021108429173, 0.5281101963919731, 0.4184538927733024, 0.3501548452430184, 0.3025623702653087, 0.26705238102427886, 0.2393086769107607, 0.21690216474877644, 0.19834797338980364, 0.1826807859849803, 0.1692423884973554, 0.15756654773338755, 0.14731257622096056, 0.13822498800698133, 0.13010794307028975]\n"
     ]
    },
    {
     "data": {
      "text/plain": [
       "1"
      ]
     },
     "metadata": {},
     "output_type": "display_data"
    }
   ],
   "source": [
    "# Interaction parameters\n",
    "\n",
    "# Coulomb\n",
    "LLT.W0 = 1.0                   # Interaction strength\n",
    "LLT.D_l = 10.0                  # Screening length D/l\n",
    "LLT.d_l = 0.1                  # Inter-layer distance d/l\n",
    "# compute the pseudo-potential components\n",
    "intra_PP = LLT.pseudo_potential_decomposition.(0:15, LLT.V_Coulomb_bilayer; SameLayer = true)\n",
    "inter_PP = LLT.pseudo_potential_decomposition.(0:15, LLT.V_Coulomb_bilayer; SameLayer = false)\n",
    "@show intra_PP\n",
    "@show inter_PP\n",
    "\n",
    "# Haldane\n",
    "# LLT.V_intra = [0.0; 0.8; 0.0; 0.4]          # Intralayer Haldane pseudo-potential in unit of W0\n",
    "# LLT.V_inter = [1.5; 0.7; 0.5; 0.4]          # Interlayer Haldane pseudo-potential in unit of W0\n",
    "\n",
    "# or use Coulomb interaction with a cutoff in m\n",
    "LLT.V_intra = copy(intra_PP)\n",
    "LLT.V_inter = copy(inter_PP)\n",
    "\n",
    "# choose a linear mixing between Haldane and Coulomb interaction\n",
    "LLT.mix = 1                  # mix * Haldane + (1-mix) * Coulomb"
   ]
  },
  {
   "cell_type": "code",
   "execution_count": 7,
   "id": "41bc13d2",
   "metadata": {},
   "outputs": [],
   "source": [
    "ΔE = 0 * LLT.W0                # Energy difference between the two layers\n",
    "\n",
    "# Set up one-body Hamiltonian matrix for inter-layer tunneling\n",
    "# H_onebody[c1, c2, cc, k] : no hopping from component c2 to c1\n",
    "# For bilayer system: Nc_hopping=1, Nc_conserve=2, Nk=6\n",
    "H_onebody_bilayer_no_tunneling = zeros(ComplexF64, 1, 1, Nc_conserve, Nk)\n",
    "# Add energy difference terms: ΔE = 0.5 * W0 between different layers\n",
    "# No tunneling\n",
    "for k_idx in 1:Nk\n",
    "    H_onebody_bilayer_no_tunneling[1, 1, 1, k_idx] = 0.5ΔE\n",
    "    H_onebody_bilayer_no_tunneling[1, 1, 2, k_idx] = -0.5ΔE\n",
    "end\n",
    "\n",
    "# Create parameter structure for bilayer system\n",
    "para_conserve = EDPara(\n",
    "    k_list = k_list, \n",
    "    Gk = Gk, \n",
    "    Nc_hopping = 1,\n",
    "    Nc_conserve = Nc_conserve,\n",
    "    H_onebody = H_onebody_bilayer_no_tunneling,\n",
    "    V_int = LLT.V_int_mixing_bilayer,      # use mixing interaction\n",
    "    FF_inf_angle = LLT.Landau_ff_inf,\n",
    ");"
   ]
  },
  {
   "cell_type": "code",
   "execution_count": 8,
   "id": "c7dc7eef",
   "metadata": {},
   "outputs": [
    {
     "data": {
      "text/plain": [
       "12-element Vector{Int64}:\n",
       " 71188\n",
       " 71178\n",
       " 71178\n",
       " 71120\n",
       " 71112\n",
       " 71112\n",
       " 71188\n",
       " 71178\n",
       " 71178\n",
       " 71120\n",
       " 71112\n",
       " 71112"
      ]
     },
     "metadata": {},
     "output_type": "display_data"
    }
   ],
   "source": [
    "# Create momentum blocks for bilayer system\n",
    "blocks, block_k1, block_k2, k0number = \n",
    "    ED_momentum_block_division(para_conserve, ED_mbslist(para_conserve, (Ne1,Ne2)));\n",
    "length.(blocks)"
   ]
  },
  {
   "cell_type": "code",
   "execution_count": 9,
   "id": "b5c1da26",
   "metadata": {},
   "outputs": [],
   "source": [
    "# Generate scattering lists for efficient Hamiltonian construction\n",
    "scat_list1_conserve = ED_sortedScatteringList_onebody(para_conserve);\n",
    "scat_list2_conserve = ED_sortedScatteringList_twobody(para_conserve);"
   ]
  },
  {
   "cell_type": "code",
   "execution_count": null,
   "id": "18e2914b",
   "metadata": {},
   "outputs": [
    {
     "name": "stdout",
     "output_type": "stream",
     "text": [
      "Processing block #1 with size 71188, momentum 0, 0\n",
      " 18.082707 seconds (317.90 M allocations: 7.725 GiB, 15.91% gc time, 17.54% compilation time)\n",
      " 15.285825 seconds (5.28 M allocations: 1006.209 MiB, 10.48% gc time, 53.17% compilation time)\n",
      "Processing block #2 with size 71178, momentum 0, 1\n",
      " 15.382439 seconds (316.83 M allocations: 7.673 GiB, 14.40% gc time)\n",
      "  6.505100 seconds (5.07 k allocations: 644.621 MiB, 5.98% gc time)\n",
      "Processing block #3 with size 71178, momentum 0, 2\n",
      " 22.951228 seconds (316.83 M allocations: 7.673 GiB, 13.12% gc time)\n",
      " 11.738236 seconds (5.07 k allocations: 644.622 MiB, 4.95% gc time)\n",
      "Processing block #4 with size 71120, momentum 1, 0\n",
      " 26.131134 seconds (316.52 M allocations: 7.665 GiB, 14.29% gc time)\n",
      "  7.332210 seconds (6.64 k allocations: 869.969 MiB, 8.24% gc time)\n",
      "Processing block #5 with size 71112, momentum 1, 1\n",
      " 24.914715 seconds (316.47 M allocations: 7.663 GiB, 13.33% gc time)\n",
      "  8.703384 seconds (6.31 k allocations: 809.073 MiB, 5.48% gc time)\n",
      "Processing block #6 with size 71112, momentum 1, 2\n",
      " 30.452182 seconds (316.47 M allocations: 7.663 GiB, 13.04% gc time)\n"
     ]
    }
   ],
   "source": [
    "Neigen = 10  # Number of eigenvalues to compute per block\n",
    "energies = Vector{Vector{Float64}}(undef, length(blocks))\n",
    "vectors = Vector{Vector{Vector{ComplexF64}}}(undef, length(blocks))\n",
    "for i in eachindex(blocks)\n",
    "    println(\"Processing block #$i with size $(length(blocks[i])), momentum $(block_k1[i]), $(block_k2[i])\")\n",
    "    energies[i], vectors[i] = EDsolve(blocks[i], scat_list2_conserve, scat_list1_conserve;\n",
    "        N = Neigen, showtime=true\n",
    "    )\n",
    "end"
   ]
  },
  {
   "cell_type": "code",
   "execution_count": null,
   "id": "d3af069d",
   "metadata": {},
   "outputs": [],
   "source": [
    "plot_ed_spectrum()"
   ]
  },
  {
   "cell_type": "code",
   "execution_count": null,
   "id": "3c439416",
   "metadata": {},
   "outputs": [],
   "source": []
  }
 ],
 "metadata": {
  "kernelspec": {
   "display_name": "Julia 1.11.7",
   "language": "julia",
   "name": "julia-1.11"
  },
  "language_info": {
   "file_extension": ".jl",
   "mimetype": "application/julia",
   "name": "julia",
   "version": "1.11.7"
  }
 },
 "nbformat": 4,
 "nbformat_minor": 5
}
