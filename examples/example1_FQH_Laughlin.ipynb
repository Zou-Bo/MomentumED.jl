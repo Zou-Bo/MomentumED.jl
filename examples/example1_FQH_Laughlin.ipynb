{
 "cells": [
  {
   "cell_type": "markdown",
   "id": "865f57b8",
   "metadata": {},
   "source": [
    "### Torus Geometry\n",
    "- **Triangular unit cell**: Primitive vectors G₁ = (G, 0), G₂ = (-G/2, √3G/2)\n",
    "- **Landau level**: n = 0 (lowest Landau level)\n",
    "- **Brillouin zone area**: 2π/l² = √0.75 × G²\n",
    "- **Magnetic length**: l = √(ℏ/eB) sets the length scale\n",
    "\n",
    "### Filling Factor\n",
    "- **ν**: Filling factor 1/3 or others (Laughlin state)\n",
    "- **Nk**: Number of k-points must be multiple of m for commensurability\n",
    "- **Ne = Nk * ν**: Number of electrons for ν filling\n",
    "\n",
    "### Interaction Details\n",
    "- **Form factor**: V(q) = W₀ × 1/|ql| × tanh(|qD|)\n",
    "- **Screening**: D/l (finite screening length)\n",
    "- **Landau level projection**: exp(-0.5 × q²l²) form factor\n",
    "- **Units**: Energy in units of W₀, length in units of magnetic length l\n",
    "\n",
    "### Key Physics\n",
    "- **Magnetic translation algebra**: Implements proper commutation relations\n",
    "- **Periodic boundary conditions**: Torus geometry with modular parameter τ\n",
    "- **Momentum conservation**: Total momentum K = (K₁, K₂) is conserved\n",
    "- **Ground state degeneracy**: m-fold degenerate on torus for Laughlin states"
   ]
  },
  {
   "cell_type": "code",
   "execution_count": 20,
   "id": "e05b2f2f",
   "metadata": {},
   "outputs": [
    {
     "data": {
      "text/plain": [
       "5"
      ]
     },
     "metadata": {},
     "output_type": "display_data"
    }
   ],
   "source": [
    "# Define 3×5 k-mesh (Nk=15) for 1/3 filling Laughlin state calculation\n",
    "k_list = [0 1 2 0 1 2 0 1 2 0 1 2 0 1 2;\n",
    "          0 0 0 1 1 1 2 2 2 3 3 3 4 4 4]\n",
    "\n",
    "# System parameters\n",
    "Nk = 15         # Total number of k-points\n",
    "Gk = (3, 5)     # Grid dimensions (G1_direction, G2_direction)\n",
    "Ne = 5          # Ne electrons for this system, Ne=5 for 1/3 filling, Ne=3 for 1/5 filling"
   ]
  },
  {
   "cell_type": "code",
   "execution_count": 21,
   "id": "14143281",
   "metadata": {},
   "outputs": [],
   "source": [
    "# Define 3×6 k-mesh (Nk=18) for 1/3 filling Laughlin state calculation\n",
    "\n",
    "#=\n",
    "\n",
    "k_list = [0 1 2 0 1 2 0 1 2 0 1 2 0 1 2 0 1 2;\n",
    "          0 0 0 1 1 1 2 2 2 3 3 3 4 4 4 5 5 5]\n",
    "\n",
    "# System parameters\n",
    "Nk = 18         # Total number of k-points\n",
    "Gk = (3, 6)     # Grid dimensions (G1_direction, G2_direction)\n",
    "Ne = 6          # Ne electrons for this system, Ne=5 for 1/3 filling, Ne=3 for 1/5 filling\n",
    "\n",
    "=#"
   ]
  },
  {
   "cell_type": "code",
   "execution_count": 22,
   "id": "a3f78c98",
   "metadata": {},
   "outputs": [],
   "source": [
    "# Define k-mesh for triangular lattice\n",
    "# Using 9×9 k-mesh (Nk=27) for accurate Laughlin state calculation\n",
    "# Note: This setup needs much more time and memory\n",
    "\n",
    "#=\n",
    "\n",
    "k_list = [0 3 6 2 5 8 1 4 7 0 3 6 2 5 8 1 4 7 0 3 6 2 5 8 1 4 7;\n",
    "          0 0 0 1 1 1 2 2 2 3 3 3 4 4 4 5 5 5 6 6 6 7 7 7 8 8 8]\n",
    "\n",
    "# System parameters\n",
    "Nk = 27          # Total number of k-points\n",
    "Gk = (9, 9)      # Grid dimensions (G1_direction, G2_direction)\n",
    "# Number of electrons for 1/3 filling\n",
    "Ne = 9          # N electrons for this system\n",
    "\n",
    "=#"
   ]
  },
  {
   "cell_type": "code",
   "execution_count": 23,
   "id": "16d1c3cb",
   "metadata": {},
   "outputs": [],
   "source": [
    "# Define k-mesh for triangular lattice\n",
    "# Using 6×5 k-mesh (Nk=30) for accurate Laughlin state calculation\n",
    "# Note: This setup needs much more time and memory\n",
    "# Note: for 10/30 filling, 36GB memory is recommended\n",
    "\n",
    "#=\n",
    "\n",
    "k_list = [0 1 2 3 4 5 0 1 2 3 4 5 0 1 2 3 4 5 0 1 2 3 4 5 0 1 2 3 4 5;\n",
    "          0 0 0 0 0 0 1 1 1 1 1 1 2 2 2 2 2 2 3 3 3 3 3 3 4 4 4 4 4 4]\n",
    "\n",
    "# System parameters\n",
    "Nk = 30         # Total number of k-points\n",
    "Gk = (6, 5)      # Grid dimensions (G1_direction, G2_direction)\n",
    "Ne = 10         # N electrons for this system\n",
    "\n",
    "=#"
   ]
  },
  {
   "cell_type": "code",
   "execution_count": 24,
   "id": "5933a85d",
   "metadata": {},
   "outputs": [],
   "source": [
    "# Import the momentum-conserved exact diagonalization package\n",
    "using MomentumED\n",
    "\n",
    "# Physical parameters for the FQH system\n",
    "Gl = sqrt(2π/sqrt(0.75))  # Magnetic length scale from Brillouin zone area\n",
    "D_l = 5.0                  # Screening length / magnetic length (D/l = 5)\n",
    "W0 = 1.0                   # Interaction strength (energy unit)\n",
    "G12_angle = 2π/3          # Angle between reciprocal lattice vectors (triangular lattice)\n",
    "\n",
    "# Define the form factor for Coulomb interaction in Landau level\n",
    "# This is the Fourier transform of the projected Coulomb interaction\n",
    "# V(q) = W₀ * 1/|ql| * tanh(|qD|) * exp(-0.5 * q²l²)\n",
    "# The exp(-0.5 * q²l²) factor comes from Landau level projection\n",
    "function VFF(q1::Float64, q2::Float64)\n",
    "    ql = sqrt(q1^2 + q2^2 + 2cos(G12_angle) * q1*q2) * Gl  # |q| in magnetic length units\n",
    "    if ql == 0.0\n",
    "        return W0 * D_l  # Regularization at q=0 (divergent part)\n",
    "    end\n",
    "    return W0 / ql * tanh(ql * D_l) * exp(-0.5 * ql^2)\n",
    "end\n",
    "\n",
    "# Sign function for reciprocal lattice vectors\n",
    "# This implements the phase structure of the magnetic translation group\n",
    "# The sign depends on the parity of the reciprocal lattice vector indices\n",
    "function ita(g1::Int64, g2::Int64)\n",
    "    if iseven(g1) && iseven(g2)\n",
    "        return 1\n",
    "    else\n",
    "        return -1\n",
    "    end\n",
    "end\n",
    "\n",
    "# Cross product for 2D vectors (returns scalar z-component)\n",
    "# Used for computing geometric phases in the magnetic translation algebra\n",
    "function ql_cross(q1_1, q1_2, q2_1, q2_2)\n",
    "    return q1_1 * q2_2 - q1_2 * q2_1\n",
    "end\n",
    "\n",
    "# Two-body interaction matrix element\n",
    "# This implements the full Coulomb interaction with proper magnetic translation phases\n",
    "# The interaction is computed in momentum space with Landau level projection\n",
    "# Momentum inputs are Tuple(Float64, Float64) representing (k1, k2) in ratio of Gk\n",
    "function V_int(kf1, kf2, ki2, ki1, cf1=1, cf2=1, ci2=1, ci1=1; output=false)::ComplexF64\n",
    "    \n",
    "    # Calculate momentum transfer (modulo reciprocal lattice)\n",
    "    q = rem.(ki1 .- kf1, 1, RoundNearest)\n",
    "    G_shift1 = round.(Int64, ki1 .- kf1 .- q, RoundNearest)\n",
    "    G_shift2 = round.(Int64, kf2 .- ki2 .- q, RoundNearest)\n",
    "\n",
    "    V_total = ComplexF64(0.0)\n",
    "    # Sum over reciprocal lattice vectors for convergence\n",
    "    # Nshell = 2 provides good convergence for this system\n",
    "    Nshell = 2\n",
    "    for g1 in -Nshell:Nshell, g2 in -Nshell:Nshell\n",
    "        if abs(g1-g2) > Nshell\n",
    "            continue\n",
    "        end\n",
    "\n",
    "        # Construct the full momentum transfer including reciprocal lattice\n",
    "        qq1 = q[1] + g1\n",
    "        qq2 = q[2] + g2\n",
    "\n",
    "        # Calculate phase factors from magnetic translation algebra\n",
    "        # These phases ensure proper commutation relations and gauge invariance\n",
    "        phase_angle = 0.5ql_cross(ki1[1], ki1[2], kf1[1], kf1[2])\n",
    "        phase_angle += 0.5ql_cross(ki1[1]+kf1[1], ki1[2]+kf1[2], qq1, qq2)\n",
    "        phase_angle += 0.5ql_cross(ki2[1], ki2[2], kf2[1], kf2[2])\n",
    "        phase_angle += 0.5ql_cross(ki2[1]+kf2[1], ki2[2]+kf2[2], -qq1, -qq2)\n",
    "\n",
    "        phase = cispi(2.0phase_angle)\n",
    "        sign = ita(g1+G_shift1[1], g2+G_shift1[2]) * ita(g1+G_shift2[1], g2+G_shift2[2])\n",
    "\n",
    "        V_total += sign * phase * VFF(qq1, qq2)\n",
    "    end\n",
    "\n",
    "    return V_total\n",
    "end\n",
    "\n",
    "# Create parameter structure for the exact diagonalization\n",
    "# This contains all the system information needed for the calculation\n",
    "para = EDPara(k_list = k_list, Gk = Gk, V_int = V_int);"
   ]
  },
  {
   "cell_type": "code",
   "execution_count": 25,
   "id": "6ba3861e",
   "metadata": {},
   "outputs": [
    {
     "data": {
      "text/plain": [
       "15-element Vector{Int64}:\n",
       " 201\n",
       " 200\n",
       " 200\n",
       " 200\n",
       " 200\n",
       " 201\n",
       " 200\n",
       " 200\n",
       " 200\n",
       " 200\n",
       " 201\n",
       " 200\n",
       " 200\n",
       " 200\n",
       " 200"
      ]
     },
     "metadata": {},
     "output_type": "display_data"
    }
   ],
   "source": [
    "blocks, block_k1, block_k2, k0number = \n",
    "    ED_momentum_block_division(para, ED_mbslist(para, (Ne,)));\n",
    "length.(blocks)"
   ]
  },
  {
   "cell_type": "code",
   "execution_count": 26,
   "id": "26595f61",
   "metadata": {},
   "outputs": [],
   "source": [
    "scat_list2 = ED_sortedScatteringList_twobody(para);"
   ]
  },
  {
   "cell_type": "code",
   "execution_count": 27,
   "id": "23f747d3",
   "metadata": {},
   "outputs": [
    {
     "name": "stdout",
     "output_type": "stream",
     "text": [
      "Processing block #1 with size 201, momentum 0, 0\n",
      "  0.121368 seconds (329.51 k allocations: 11.147 MiB, 624.85% compilation time)\n",
      "  0.003878 seconds (2.65 k allocations: 1.283 MiB)\n",
      "Processing block #2 with size 200, momentum 0, 1\n",
      "  0.025194 seconds (200.05 k allocations: 4.688 MiB, 87.75% gc time)\n",
      "  0.002148 seconds (2.07 k allocations: 1.004 MiB)\n",
      "Processing block #3 with size 200, momentum 0, 2\n",
      "  0.002600 seconds (200.08 k allocations: 4.689 MiB)\n",
      "  0.001572 seconds (1.59 k allocations: 787.698 KiB)\n",
      "Processing block #4 with size 200, momentum 0, 3\n",
      "  0.002919 seconds (200.04 k allocations: 4.688 MiB)\n",
      "  0.001645 seconds (1.60 k allocations: 787.433 KiB)\n",
      "Processing block #5 with size 200, momentum 0, 4\n",
      "  0.002947 seconds (200.06 k allocations: 4.688 MiB)\n",
      "  0.002532 seconds (2.06 k allocations: 1.004 MiB)\n",
      "Processing block #6 with size 201, momentum 1, 0\n",
      "  0.015671 seconds (201.69 k allocations: 4.737 MiB, 82.82% gc time)\n",
      "  0.002518 seconds (2.64 k allocations: 1.284 MiB)\n",
      "Processing block #7 with size 200, momentum 1, 1\n",
      "  0.002812 seconds (200.00 k allocations: 4.687 MiB)\n",
      "  0.002003 seconds (2.06 k allocations: 1.004 MiB)\n",
      "Processing block #8 with size 200, momentum 1, 2\n",
      "  0.002655 seconds (199.99 k allocations: 4.687 MiB)\n",
      "  0.001844 seconds (1.59 k allocations: 787.058 KiB)\n",
      "Processing block #9 with size 200, momentum 1, 3\n",
      "  0.004007 seconds (200.02 k allocations: 4.688 MiB)\n",
      "  0.002100 seconds (1.59 k allocations: 787.667 KiB)\n",
      "Processing block #10 with size 200, momentum 1, 4\n",
      "  0.002565 seconds (199.99 k allocations: 4.687 MiB)\n",
      "  0.002180 seconds (2.06 k allocations: 1.004 MiB)\n",
      "Processing block #11 with size 201, momentum 2, 0\n",
      "  0.002880 seconds (201.69 k allocations: 4.737 MiB)\n",
      "  0.002437 seconds (2.65 k allocations: 1.283 MiB)\n",
      "Processing block #12 with size 200, momentum 2, 1\n",
      "  0.006335 seconds (200.02 k allocations: 4.688 MiB, 55.48% gc time)\n",
      "  0.002089 seconds (2.07 k allocations: 1.005 MiB)\n",
      "Processing block #13 with size 200, momentum 2, 2\n",
      "  0.002745 seconds (200.02 k allocations: 4.688 MiB)\n",
      "  0.001442 seconds (1.59 k allocations: 787.776 KiB)\n",
      "Processing block #14 with size 200, momentum 2, 3\n",
      "  0.003038 seconds (200.03 k allocations: 4.688 MiB)\n",
      "  0.002449 seconds (1.60 k allocations: 788.854 KiB)\n",
      "Processing block #15 with size 200, momentum 2, 4\n",
      "  0.002698 seconds (200.02 k allocations: 4.688 MiB)\n",
      "  0.001797 seconds (2.07 k allocations: 1.005 MiB)\n"
     ]
    }
   ],
   "source": [
    "Neigen = 5  # Number of eigenvalues to compute per block\n",
    "energies = Vector{Vector{Float64}}(undef, length(blocks))\n",
    "vectors = Vector{Vector{Vector{ComplexF64}}}(undef, length(blocks))\n",
    "for i in eachindex(blocks)\n",
    "    println(\"Processing block #$i with size $(length(blocks[i])), momentum $(block_k1[i]), $(block_k2[i])\")\n",
    "    energies[i], vectors[i] = EDsolve(blocks[i], scat_list2; N = Neigen,\n",
    "        showtime=true, \n",
    "    )\n",
    "end"
   ]
  },
  {
   "cell_type": "code",
   "execution_count": 28,
   "id": "ba33f328",
   "metadata": {},
   "outputs": [],
   "source": [
    "# The package for plotting is not included in this package. Use the following to add it:\n",
    "# using Pkg; Pkg.add(\"CairoMakie\")"
   ]
  },
  {
   "cell_type": "code",
   "execution_count": 29,
   "id": "9e5d992b",
   "metadata": {},
   "outputs": [
    {
     "data": {
      "image/png": "[encoded data removed]",
      "text/html": [
       "<img width=600 height=450 style='object-fit: contain; height: auto;' src=\"data:image/png;base64, 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\"/>"
      ]
     },
     "metadata": {},
     "output_type": "display_data"
    }
   ],
   "source": [
    "# Plot the energy spectrum\n",
    "using CairoMakie\n",
    "CairoMakie.activate!()\n",
    "\n",
    "begin\n",
    "    fig = Figure();\n",
    "    ax = Axis(fig[1, 1])\n",
    "    # Plot energy levels for each momentum block\n",
    "    for i in 1:length(blocks)\n",
    "        for e in energies[i]\n",
    "            scatter!(ax, i, e, color = :blue, marker=:hline)\n",
    "        end\n",
    "    end\n",
    "    xlims!(-0.2, 1.2+length(blocks))\n",
    "    fig\n",
    "end"
   ]
  },
  {
   "cell_type": "code",
   "execution_count": 33,
   "id": "be18398b",
   "metadata": {},
   "outputs": [
    {
     "data": {
      "text/plain": [
       "5-element Vector{Float64}:\n",
       " 2.257788292407563\n",
       " 2.3355172012841594\n",
       " 2.335517201284163\n",
       " 2.353444864262791\n",
       " 2.3534448642627934"
      ]
     },
     "metadata": {},
     "output_type": "display_data"
    }
   ],
   "source": [
    "# check energies explicitly to see if there's degeneracy in the same momentum sector.\n",
    "bn = 1 # the block number to inspect\n",
    "energies[bn]"
   ]
  },
  {
   "cell_type": "markdown",
   "id": "2f1871be",
   "metadata": {},
   "source": [
    "Compute and plot one-body reduced density matric"
   ]
  },
  {
   "cell_type": "code",
   "execution_count": 34,
   "id": "e4677358",
   "metadata": {},
   "outputs": [
    {
     "data": {
      "image/png": "[encoded data removed]",
      "text/html": [
       "<img width=600 height=450 style='object-fit: contain; height: auto;' src=\"data:image/png;base64, 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\"/>"
      ]
     },
     "metadata": {},
     "output_type": "display_data"
    }
   ],
   "source": [
    "# plot the one-body reduced density matrix of the ground eigenstate in the first block\n",
    "rdm = ED_onebody_rdm(blocks[bn], vectors[bn][1])\n",
    "begin\n",
    "    fig = Figure();\n",
    "    ax = Axis(fig[1, 1]; yreversed = true)\n",
    "    hm = heatmap!(ax, abs.(rdm); colorrange = (0,1), \n",
    "        colormap = range(Makie.Colors.colorant\"white\", stop=Makie.Colors.colorant\"#ec2f41\", length=15)\n",
    "    )\n",
    "    Colorbar(fig[1, 2], hm)\n",
    "    fig\n",
    "end"
   ]
  },
  {
   "cell_type": "markdown",
   "id": "25b0d8c6",
   "metadata": {},
   "source": [
    "Compute the many-body connection and the Wilson loop for many-body Chern number."
   ]
  },
  {
   "cell_type": "code",
   "execution_count": 31,
   "id": "78f4d728",
   "metadata": {},
   "outputs": [],
   "source": [
    "# Define the Landau level infinitesimal form factor\n",
    "function Landau_ff_inf(k_f, k_i, c=1)\n",
    "    dk = k_f .- k_i\n",
    "    k = 0.5 .* (k_f .+ k_i)\n",
    "    return -π * (k[1]*dk[2] - k[2]*dk[1])\n",
    "end\n",
    "para.FF_inf_angle = Landau_ff_inf; # Update the form factor in the parameter"
   ]
  },
  {
   "cell_type": "code",
   "execution_count": 32,
   "id": "073f6799",
   "metadata": {},
   "outputs": [
    {
     "data": {
      "text/plain": [
       "9-element Vector{Tuple{Float64, Float64}}:\n",
       " (0.0, 0.0)\n",
       " (0.5, 0.0)\n",
       " (1.0, 0.0)\n",
       " (1.0, 0.5)\n",
       " (1.0, 1.0)\n",
       " (0.5, 1.0)\n",
       " (0.0, 1.0)\n",
       " (0.0, 0.5)\n",
       " (0.0, 0.0)"
      ]
     },
     "metadata": {},
     "output_type": "display_data"
    }
   ],
   "source": [
    "# boundary twist angle path (Wilson loop)\n",
    "N_shift = 2  # number of shifts along each edge\n",
    "shifts = Tuple{Float64, Float64}[(0.0, 0.0)]\n",
    "for i in 1:N_shift\n",
    "    push!(shifts, (i/N_shift, 0.0))\n",
    "end\n",
    "for i in 1:N_shift\n",
    "    push!(shifts, (1.0, i/N_shift))\n",
    "end\n",
    "for i in 1:N_shift\n",
    "    push!(shifts, ((N_shift - i)/N_shift, 1.0))\n",
    "end\n",
    "for i in 1:N_shift\n",
    "    push!(shifts, (0.0, (N_shift - i)/N_shift))\n",
    "end\n",
    "shifts"
   ]
  },
  {
   "cell_type": "markdown",
   "id": "44423f58",
   "metadata": {},
   "source": [
    "If there's only one ground state."
   ]
  },
  {
   "cell_type": "code",
   "execution_count": 15,
   "id": "073f6799",
   "metadata": {},
   "outputs": [
    {
     "name": "stdout",
     "output_type": "stream",
     "text": [
      "k_shift #1 \t (0.3333333333333333, 0.0)\n",
      "  0.027690 seconds (1.94 M allocations: 44.237 MiB)\n",
      "  0.034251 seconds (100.00 k allocations: 8.085 MiB, 69.67% compilation time: 100% of which was recompilation)\n",
      "Inner product: amp = 0.9326829013840181, phase = -0.6854042154624329\n",
      "k_shift #2 \t (0.6666666666666666, 0.0)\n",
      "  0.067834 seconds (1.94 M allocations: 44.557 MiB, 12.79% gc time)\n",
      "  0.006880 seconds (1.38 k allocations: 3.078 MiB)\n",
      "Inner product: amp = 0.9144199031546625, phase = -0.6623452484981368\n",
      "k_shift #3 \t (1.0, 0.0)\n",
      "  0.027391 seconds (1.94 M allocations: 44.235 MiB, 9.38% gc time)\n",
      "  0.007103 seconds (1.44 k allocations: 3.116 MiB)\n",
      "Inner product: amp = 0.8166285873418806, phase = -0.428289475069685\n",
      "k_shift #4 \t (1.0, 0.3333333333333333)\n",
      "  0.026988 seconds (1.94 M allocations: 44.234 MiB, 15.29% gc time)\n",
      "  0.006408 seconds (1.42 k allocations: 3.114 MiB)\n",
      "Inner product: amp = 0.6574702043503129, phase = -1.036460115334932\n",
      "k_shift #5 \t (1.0, 0.6666666666666666)\n",
      "  0.034860 seconds (1.94 M allocations: 44.235 MiB, 32.45% gc time)\n",
      "  0.014094 seconds (2.42 k allocations: 5.168 MiB)\n",
      "Inner product: amp = 0.930194815052535, phase = 2.3077168840906657\n",
      "k_shift #6 \t (1.0, 1.0)\n",
      "  0.029752 seconds (1.94 M allocations: 44.235 MiB, 10.72% gc time)\n"
     ]
    },
    {
     "name": "stderr",
     "output_type": "stream",
     "text": [
      "┌ Warning: Small inner product amplitude: 0.6574702043503129\n",
      "└ @ MomentumED C:\\Users\\zoubo\\PhysicsWorking\\MomentumED.jl\\src\\analysis\\manybody_connection.jl:89\n"
     ]
    },
    {
     "name": "stdout",
     "output_type": "stream",
     "text": [
      "  0.010107 seconds (1.52 k allocations: 3.123 MiB)\n",
      "Inner product: amp = 0.8856248762343892, phase = -0.934388249408912\n",
      "k_shift #7 \t (0.6666666666666666, 1.0)\n",
      "  0.032208 seconds (1.94 M allocations: 44.234 MiB, 12.55% gc time)\n",
      "  0.010316 seconds (1.43 k allocations: 3.115 MiB)\n",
      "Inner product: amp = 0.48750205886068093, phase = 1.1131138964374583\n",
      "k_shift #8 \t (0.3333333333333333, 1.0)\n"
     ]
    },
    {
     "name": "stderr",
     "output_type": "stream",
     "text": [
      "┌ Warning: Small inner product amplitude: 0.48750205886068093\n",
      "└ @ MomentumED C:\\Users\\zoubo\\PhysicsWorking\\MomentumED.jl\\src\\analysis\\manybody_connection.jl:89\n"
     ]
    },
    {
     "name": "stdout",
     "output_type": "stream",
     "text": [
      "  0.032262 seconds (1.94 M allocations: 44.242 MiB, 12.76% gc time)\n",
      "  0.012978 seconds (1.43 k allocations: 3.116 MiB)\n",
      "Inner product: amp = 0.7274703703864887, phase = -0.024756894660908014\n",
      "k_shift #9 \t (0.0, 1.0)\n",
      "  0.038626 seconds (1.94 M allocations: 44.234 MiB, 19.49% gc time)\n",
      "  0.009747 seconds (1.43 k allocations: 3.116 MiB)\n",
      "Inner product: amp = 0.20063231320276625, phase = 2.132430699941098\n",
      "k_shift #10 \t (0.0, 0.6666666666666666)\n"
     ]
    },
    {
     "name": "stderr",
     "output_type": "stream",
     "text": [
      "┌ Warning: Small inner product amplitude: 0.20063231320276625\n",
      "└ @ MomentumED C:\\Users\\zoubo\\PhysicsWorking\\MomentumED.jl\\src\\analysis\\manybody_connection.jl:89\n"
     ]
    },
    {
     "name": "stdout",
     "output_type": "stream",
     "text": [
      "  0.032690 seconds (1.94 M allocations: 44.235 MiB, 16.81% gc time)\n",
      "  0.013674 seconds (2.44 k allocations: 5.169 MiB)\n",
      "Inner product: amp = 0.7021287014123446, phase = 1.2080378615889371\n",
      "k_shift #11 \t (0.0, 0.3333333333333333)\n",
      "  0.030885 seconds (1.94 M allocations: 44.235 MiB, 9.74% gc time)\n",
      "  0.009048 seconds (1.43 k allocations: 3.115 MiB, 11.39% gc time)\n",
      "Inner product: amp = 0.2207740003957221, phase = -1.5593834835228144\n",
      "k_shift #12 \t (0.0, 0.0)\n"
     ]
    },
    {
     "name": "stderr",
     "output_type": "stream",
     "text": [
      "┌ Warning: Small inner product amplitude: 0.2207740003957221\n",
      "└ @ MomentumED C:\\Users\\zoubo\\PhysicsWorking\\MomentumED.jl\\src\\analysis\\manybody_connection.jl:89\n"
     ]
    },
    {
     "name": "stdout",
     "output_type": "stream",
     "text": [
      "  0.032696 seconds (1.94 M allocations: 44.235 MiB, 17.93% gc time)\n",
      "  0.008749 seconds (1.45 k allocations: 3.115 MiB)\n",
      "Inner product: amp = 0.923895478902595, phase = 0.12681211612487256\n"
     ]
    },
    {
     "data": {
      "text/plain": [
       "0.2478175797944368"
      ]
     },
     "metadata": {},
     "output_type": "display_data"
    }
   ],
   "source": [
    "psi_before = copy(vectors[bn][1])\n",
    "psi_before *= cis(-angle(psi_before[1]))  # fix global phase\n",
    "\n",
    "WilsonLoopIntegral= Vector{Float64}(undef, 4N_shift)\n",
    "for i in eachindex(WilsonLoopIntegral)\n",
    "\n",
    "    println(\"k_shift #$i \\t $(shifts[i+1])\")\n",
    "\n",
    "    # one-body term is all zero and not changed by k-shift\n",
    "    scat_list2 = ED_sortedScatteringList_twobody(para; kshift = shifts[i+1]);\n",
    "    psi_after = EDsolve(blocks[bn], scat_list2; N = 1,\n",
    "        showtime = true,\n",
    "    )[2][1]\n",
    "    psi_after *= cis(-angle(psi_after[1]))  # fix global phase\n",
    "\n",
    "    WilsonLoopIntegral[i] = ED_connection_step(blocks[bn], \n",
    "        psi_after, psi_before, shifts[i+1], shifts[i], para;\n",
    "        wavefunction_tol = 1e-8, print_amp = true,\n",
    "        amp_warn_tol = 0.7, amp_warn = true\n",
    "    )\n",
    "\n",
    "    psi_before = psi_after\n",
    "end\n",
    "ManyBodyChernNumber = sum(WilsonLoopIntegral) / (2π)"
   ]
  },
  {
   "cell_type": "markdown",
   "id": "61d37dae",
   "metadata": {},
   "source": [
    "If there're 3 ground states in the same total momentum section, we need to use multiple wavefunctions with non-Abelian calculation function."
   ]
  },
  {
   "cell_type": "code",
   "execution_count": 45,
   "id": "d86c2efb",
   "metadata": {},
   "outputs": [
    {
     "name": "stdout",
     "output_type": "stream",
     "text": [
      "k_shift #1 \t (0.5, 0.0)\n",
      "Inner product: amp = 0.9865902958964128, phase = [-0.6371049676630481, -0.42710306044847984, 2.2595487127032046]\n",
      "k_shift #2 \t (1.0, 0.0)\n",
      "Inner product: amp = 0.9865902958964128, phase = [-1.665862873507085, -0.6254468060748164, -0.40711330068951934]\n",
      "k_shift #3 \t (1.0, 0.5)\n",
      "Inner product: amp = 0.9893453187448077, phase = [-0.4167163434430667, -0.3812073692184182, 0.15679096731826653]\n",
      "k_shift #4 \t (1.0, 1.0)\n",
      "Inner product: amp = 0.9893453187448067, phase = [-0.41671634344306685, -0.26670328638373225, 2.469859147165896]\n",
      "k_shift #5 \t (0.5, 1.0)\n",
      "Inner product: amp = 0.986590295896412, phase = [-0.248701533884309, 0.004856664538336392, 0.4484938369214196]\n",
      "k_shift #6 \t (0.0, 1.0)\n",
      "Inner product: amp = 0.9865902958964123, phase = [-1.0921182731793762, -0.02550066472293472, 0.2666149384878953]\n",
      "k_shift #7 \t (0.0, 0.5)\n",
      "Inner product: amp = 0.989345318744807, phase = [-0.2690846202850226, -0.10688243215523, 0.6458824508609521]\n",
      "k_shift #8 \t (0.0, 0.0)\n",
      "Inner product: amp = 0.9893453187448072, phase = [-0.32098255132284165, -0.10688243215523201, 1.162080140580215]\n"
     ]
    },
    {
     "data": {
      "text/plain": [
       "3-element Vector{Float64}:\n",
       " -0.33391561664407987\n",
       " -0.3221051584828727\n",
       "  0.6560207751269536"
      ]
     },
     "metadata": {},
     "output_type": "display_data"
    }
   ],
   "source": [
    "psi_before = reduce(hcat, vectors[bn][1:3])\n",
    "for i in 1:3\n",
    "    psi_before[:, i] *= cis(-angle(psi_before[1, i]))  # fix global phase\n",
    "end\n",
    "\n",
    "using LinearAlgebra\n",
    "WilsonLoopIntegral= Array{ComplexF64, 3}(undef, 3, 3, 4N_shift)\n",
    "for i in axes(WilsonLoopIntegral, 3)\n",
    "\n",
    "    println(\"k_shift #$i \\t $(shifts[i+1])\")\n",
    "\n",
    "    if shifts[i+1] == (0.0, 0.0)\n",
    "        psi_after = reduce(hcat, vectors[bn][1:3])\n",
    "        for i in 1:3\n",
    "            psi_after[:, i] *= cis(-angle(psi_after[1, i]))  # fix global phase\n",
    "        end\n",
    "    else\n",
    "        # one-body term is all zero and not changed by k-shift\n",
    "        scat_list2 = ED_sortedScatteringList_twobody(para; kshift = shifts[i+1]);\n",
    "        vecs = EDsolve(blocks[bn], scat_list2; N = 6,\n",
    "            showtime = false, #vec0 = psi_before[:, 1],\n",
    "        )[2][1:3]\n",
    "        psi_after = reduce(hcat, vecs)\n",
    "        for j in 1:3\n",
    "            psi_after[:, j] *= cis(-angle(psi_after[1, j]))  # fix global phase\n",
    "        end\n",
    "    end\n",
    "\n",
    "    WilsonLoopIntegral[:, :, i] = ED_NAconnection_step(blocks[bn],\n",
    "        psi_after, psi_before, shifts[i+1], shifts[i], para;\n",
    "        wavefunction_tol = 1e-8, print_amp = true,\n",
    "        amp_warn_tol = 0.7, amp_warn = true\n",
    "    )\n",
    "\n",
    "    psi_before = psi_after\n",
    "end\n",
    "ManyBodyChernNumber = sum(WilsonLoopIntegral, dims = 3) ./ (2π)\n",
    "eigvals(ManyBodyChernNumber[:,:,1])"
   ]
  },
  {
   "cell_type": "code",
   "execution_count": 46,
   "id": "161625bc",
   "metadata": {},
   "outputs": [
    {
     "data": {
      "text/plain": [
       "3×3×1 Array{Float64, 3}:\n",
       "[:, :, 1] =\n",
       " -0.333262   -0.0108002   0.0107326\n",
       " -0.0108002   0.105707   -0.485077\n",
       "  0.0107326  -0.485077    0.227556"
      ]
     },
     "metadata": {},
     "output_type": "display_data"
    }
   ],
   "source": [
    "real.(ManyBodyChernNumber)"
   ]
  },
  {
   "cell_type": "code",
   "execution_count": 47,
   "id": "d227a1cb",
   "metadata": {},
   "outputs": [
    {
     "data": {
      "text/plain": [
       "3×3×1 Array{Float64, 3}:\n",
       "[:, :, 1] =\n",
       "  0.0         0.0110032   -0.0109141\n",
       " -0.0110032   0.0          0.00505737\n",
       "  0.0109141  -0.00505737   0.0"
      ]
     },
     "metadata": {},
     "output_type": "display_data"
    }
   ],
   "source": [
    "imag.(ManyBodyChernNumber)"
   ]
  },
  {
   "cell_type": "code",
   "execution_count": 42,
   "id": "d0734642",
   "metadata": {},
   "outputs": [
    {
     "data": {
      "text/plain": [
       "603-element Vector{ComplexF64}:\n",
       "    0.04291965738732439 + 0.08074620393314985im\n",
       "    -0.0490304784295488 + 0.0949490594649567im\n",
       "   -0.10743222470930042 - 8.00436147099462e-5im\n",
       "  0.0010865089299951912 - 0.004536620093692045im\n",
       "  -0.030971941763656138 + 0.057580045481467786im\n",
       "    0.09054499714867714 - 0.04779415092235248im\n",
       "    0.03185233569968514 + 0.04465641317815125im\n",
       "     0.0366252352872821 - 0.021462158118495354im\n",
       "  0.0017875541974196106 + 0.004308836678355392im\n",
       " -0.0068086990664843194 - 0.032603942995458234im\n",
       "                        ⋮\n",
       "                    0.0 - 0.0im\n",
       "                   -0.0 - 0.0im\n",
       "                   -0.0 + 0.0im\n",
       "                   -0.0 - 0.0im\n",
       "                    0.0 - 0.0im\n",
       "                   -0.0 - 0.0im\n",
       "                    0.0 - 0.0im\n",
       "                    0.0 - 0.0im\n",
       "                   -0.0 - 0.0im"
      ]
     },
     "metadata": {},
     "output_type": "display_data"
    }
   ],
   "source": [
    "using LinearAlgebra\n",
    "⊗ = kron\n",
    "[1; 0; 0] ⊗ vectors[1][1]"
   ]
  },
  {
   "cell_type": "code",
   "execution_count": null,
   "id": "d253878d",
   "metadata": {},
   "outputs": [],
   "source": []
  }
 ],
 "metadata": {
  "kernelspec": {
   "display_name": "Julia 1.11.6",
   "language": "julia",
   "name": "julia-1.11"
  },
  "language_info": {
   "file_extension": ".jl",
   "mimetype": "application/julia",
   "name": "julia",
   "version": "1.11.6"
  }
 },
 "nbformat": 4,
 "nbformat_minor": 5
}
