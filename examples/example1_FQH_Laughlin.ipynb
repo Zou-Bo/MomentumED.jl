{
 "cells": [
  {
   "cell_type": "markdown",
   "id": "865f57b8",
   "metadata": {},
   "source": [
    "### Torus Geometry\n",
    "- **Triangular unit cell**: Primitive vectors G₁ = (G, 0), G₂ = (-G/2, √3G/2)\n",
    "- **Landau level**: n = 0 (lowest Landau level)\n",
    "- **Brillouin zone area**: 2π/l² = √0.75 × G²\n",
    "- **Magnetic length**: l = √(ℏ/eB) sets the length scale\n",
    "\n",
    "### Filling Factor\n",
    "- **ν**: Filling factor 1/3 or others (Laughlin state)\n",
    "- **Nk**: Number of k-points must be multiple of m for commensurability\n",
    "- **Ne = Nk * ν**: Number of electrons for ν filling\n",
    "\n",
    "### Interaction Details\n",
    "- **Form factor**: V(q) = W₀ × 1/|ql| × tanh(|qD|)\n",
    "- **Screening**: D/l (finite screening length)\n",
    "- **Landau level projection**: exp(-0.5 × q²l²) form factor\n",
    "- **Units**: Energy in units of W₀, length in units of magnetic length l\n",
    "\n",
    "### Key Physics\n",
    "- **Magnetic translation algebra**: Implements proper commutation relations\n",
    "- **Periodic boundary conditions**: Torus geometry with modular parameter τ\n",
    "- **Momentum conservation**: Total momentum K = (K₁, K₂) is conserved\n",
    "- **Ground state degeneracy**: m-fold degenerate on torus for Laughlin states"
   ]
  },
  {
   "cell_type": "code",
   "execution_count": null,
   "id": "e05b2f2f",
   "metadata": {},
   "outputs": [],
   "source": [
    "# Define 3×5 k-mesh (Nk=15) for 1/3 filling Laughlin state calculation\n",
    "k_list = [0 1 2 0 1 2 0 1 2 0 1 2 0 1 2;\n",
    "          0 0 0 1 1 1 2 2 2 3 3 3 4 4 4]\n",
    "\n",
    "# System parameters\n",
    "Nk = 15         # Total number of k-points\n",
    "Gk = (3, 5)     # Grid dimensions (G1_direction, G2_direction)\n",
    "Ne = 5          # Ne electrons for this system, Ne=5 for 1/3 filling, Ne=3 for 1/5 filling"
   ]
  },
  {
   "cell_type": "code",
   "execution_count": null,
   "id": "14143281",
   "metadata": {},
   "outputs": [],
   "source": [
    "# Define 3×6 k-mesh (Nk=18) for 1/3 filling Laughlin state calculation\n",
    "\n",
    "#=\n",
    "\n",
    "k_list = [0 1 2 0 1 2 0 1 2 0 1 2 0 1 2 0 1 2;\n",
    "          0 0 0 1 1 1 2 2 2 3 3 3 4 4 4 5 5 5]\n",
    "\n",
    "# System parameters\n",
    "Nk = 18         # Total number of k-points\n",
    "Gk = (3, 6)     # Grid dimensions (G1_direction, G2_direction)\n",
    "Ne = 6          # Ne electrons for this system, Ne=5 for 1/3 filling, Ne=3 for 1/5 filling\n",
    "\n",
    "=#"
   ]
  },
  {
   "cell_type": "code",
   "execution_count": null,
   "id": "a3f78c98",
   "metadata": {},
   "outputs": [],
   "source": [
    "# Define k-mesh for triangular lattice\n",
    "# Using 9×9 k-mesh (Nk=27) for accurate Laughlin state calculation\n",
    "# Note: This setup needs much more time and memory\n",
    "\n",
    "#=\n",
    "\n",
    "k_list = [0 3 6 2 5 8 1 4 7 0 3 6 2 5 8 1 4 7 0 3 6 2 5 8 1 4 7;\n",
    "          0 0 0 1 1 1 2 2 2 3 3 3 4 4 4 5 5 5 6 6 6 7 7 7 8 8 8]\n",
    "\n",
    "# System parameters\n",
    "Nk = 27          # Total number of k-points\n",
    "Gk = (9, 9)      # Grid dimensions (G1_direction, G2_direction)\n",
    "# Number of electrons for 1/3 filling\n",
    "Ne = 9          # N electrons for this system\n",
    "\n",
    "=#"
   ]
  },
  {
   "cell_type": "code",
   "execution_count": null,
   "id": "16d1c3cb",
   "metadata": {},
   "outputs": [],
   "source": [
    "# Define k-mesh for triangular lattice\n",
    "# Using 6×5 k-mesh (Nk=30) for accurate Laughlin state calculation\n",
    "# Note: This setup needs much more time and memory\n",
    "# Note: for 10/30 filling, 36GB memory is recommended\n",
    "\n",
    "#=\n",
    "\n",
    "k_list = [0 1 2 3 4 5 0 1 2 3 4 5 0 1 2 3 4 5 0 1 2 3 4 5 0 1 2 3 4 5;\n",
    "          0 0 0 0 0 0 1 1 1 1 1 1 2 2 2 2 2 2 3 3 3 3 3 3 4 4 4 4 4 4]\n",
    "\n",
    "# System parameters\n",
    "Nk = 30         # Total number of k-points\n",
    "Gk = (6, 5)      # Grid dimensions (G1_direction, G2_direction)\n",
    "Ne = 10         # N electrons for this system\n",
    "\n",
    "=#"
   ]
  },
  {
   "cell_type": "code",
   "execution_count": null,
   "id": "5933a85d",
   "metadata": {},
   "outputs": [],
   "source": [
    "# Import the momentum-conserved exact diagonalization package\n",
    "using MomentumED\n",
    "\n",
    "# Physical parameters for the FQH system\n",
    "Gl = sqrt(2π/sqrt(0.75))  # Magnetic length scale from Brillouin zone area\n",
    "D_l = 5.0                  # Screening length / magnetic length (D/l = 5)\n",
    "W0 = 1.0                   # Interaction strength (energy unit)\n",
    "G12_angle = 2π/3          # Angle between reciprocal lattice vectors (triangular lattice)\n",
    "\n",
    "# Define the form factor for Coulomb interaction in Landau level\n",
    "# This is the Fourier transform of the projected Coulomb interaction\n",
    "# V(q) = W₀ * 1/|ql| * tanh(|qD|) * exp(-0.5 * q²l²)\n",
    "# The exp(-0.5 * q²l²) factor comes from Landau level projection\n",
    "function VFF(q1::Float64, q2::Float64)\n",
    "    ql = sqrt(q1^2 + q2^2 + 2cos(G12_angle) * q1*q2) * Gl  # |q| in magnetic length units\n",
    "    if ql == 0.0\n",
    "        return W0 * D_l  # Regularization at q=0 (divergent part)\n",
    "    end\n",
    "    return W0 / ql * tanh(ql * D_l) * exp(-0.5 * ql^2)\n",
    "end\n",
    "\n",
    "# Sign function for reciprocal lattice vectors\n",
    "# This implements the phase structure of the magnetic translation group\n",
    "# The sign depends on the parity of the reciprocal lattice vector indices\n",
    "function ita(g1::Int64, g2::Int64)\n",
    "    if iseven(g1) && iseven(g2)\n",
    "        return 1\n",
    "    else\n",
    "        return -1\n",
    "    end\n",
    "end\n",
    "\n",
    "# Cross product for 2D vectors (returns scalar z-component)\n",
    "# Used for computing geometric phases in the magnetic translation algebra\n",
    "function ql_cross(q1_1, q1_2, q2_1, q2_2)\n",
    "    return q1_1 * q2_2 - q1_2 * q2_1\n",
    "end\n",
    "\n",
    "# Two-body interaction matrix element\n",
    "# This implements the full Coulomb interaction with proper magnetic translation phases\n",
    "# The interaction is computed in momentum space with Landau level projection\n",
    "# Momentum inputs are Tuple(Float64, Float64) representing (k1, k2) in ratio of Gk\n",
    "function V_int(kf1, kf2, ki2, ki1, cf1=1, cf2=1, ci2=1, ci1=1)::ComplexF64\n",
    "    \n",
    "    # Calculate momentum transfer (modulo reciprocal lattice)\n",
    "    q = rem.(ki1 .- kf1, 1, RoundNearest)\n",
    "    G_shift1 = round.(Int64, ki1 .- kf1 .- q, RoundNearest)\n",
    "    G_shift2 = round.(Int64, kf2 .- ki2 .- q, RoundNearest)\n",
    "\n",
    "    V_total = ComplexF64(0.0)\n",
    "    # Sum over reciprocal lattice vectors for convergence\n",
    "    # Nshell = 2 provides good convergence for this system\n",
    "    Nshell = 2\n",
    "    for g1 in -Nshell:Nshell, g2 in -Nshell:Nshell\n",
    "        if abs(g1-g2) > Nshell\n",
    "            continue\n",
    "        end\n",
    "\n",
    "        # Construct the full momentum transfer including reciprocal lattice\n",
    "        qq1 = q[1] + g1\n",
    "        qq2 = q[2] + g2\n",
    "\n",
    "        # Calculate phase factors from magnetic translation algebra\n",
    "        # These phases ensure proper commutation relations and gauge invariance\n",
    "        phase_angle = 0.5ql_cross(ki1[1], ki1[2], kf1[1], kf1[2])\n",
    "        phase_angle += 0.5ql_cross(ki1[1]+kf1[1], ki1[2]+kf1[2], qq1, qq2)\n",
    "        phase_angle += 0.5ql_cross(ki2[1], ki2[2], kf2[1], kf2[2])\n",
    "        phase_angle += 0.5ql_cross(ki2[1]+kf2[1], ki2[2]+kf2[2], -qq1, -qq2)\n",
    "\n",
    "        phase = cispi(2.0phase_angle)\n",
    "        sign = ita(g1+G_shift1[1], g2+G_shift1[2]) * ita(g1+G_shift2[1], g2+G_shift2[2])\n",
    "\n",
    "        V_total += sign * phase * VFF(qq1, qq2)\n",
    "    end\n",
    "\n",
    "    return V_total\n",
    "end\n",
    "\n",
    "# Create parameter structure for the exact diagonalization\n",
    "# This contains all the system information needed for the calculation\n",
    "para = EDPara(k_list = k_list, Gk = Gk, V_int = V_int);"
   ]
  },
  {
   "cell_type": "code",
   "execution_count": null,
   "id": "6ba3861e",
   "metadata": {},
   "outputs": [],
   "source": [
    "blocks, block_k1, block_k2, k0number = \n",
    "    ED_momentum_block_division(para, ED_mbslist(para, (Ne,)));\n",
    "length.(blocks)"
   ]
  },
  {
   "cell_type": "code",
   "execution_count": null,
   "id": "26595f61",
   "metadata": {},
   "outputs": [],
   "source": [
    "scat_list2 = ED_sortedScatteringList_twobody(para);"
   ]
  },
  {
   "cell_type": "code",
   "execution_count": null,
   "id": "23f747d3",
   "metadata": {},
   "outputs": [],
   "source": [
    "Neigen = 5  # Number of eigenvalues to compute per block\n",
    "energies = Vector{Vector{Float64}}(undef, length(blocks))\n",
    "vectors = Vector{Vector{Vector{ComplexF64}}}(undef, length(blocks))\n",
    "for i in eachindex(blocks)\n",
    "    println(\"Processing block #$i with size $(length(blocks[i])), momentum $(block_k1[i]), $(block_k2[i])\")\n",
    "    energies[i], vectors[i] = EDsolve(blocks[i], scat_list2; N = Neigen,\n",
    "        showtime=true, \n",
    "    )\n",
    "end"
   ]
  },
  {
   "cell_type": "code",
   "execution_count": null,
   "id": "ba33f328",
   "metadata": {},
   "outputs": [],
   "source": [
    "# The package for plotting is not included in this package. Use the following to add it:\n",
    "# using Pkg; Pkg.add(\"CairoMakie\")"
   ]
  },
  {
   "cell_type": "code",
   "execution_count": null,
   "id": "9e5d992b",
   "metadata": {},
   "outputs": [],
   "source": [
    "# Plot the energy spectrum\n",
    "using CairoMakie\n",
    "CairoMakie.activate!()\n",
    "\n",
    "begin\n",
    "    fig = Figure();\n",
    "    ax = Axis(fig[1, 1])\n",
    "    # Plot energy levels for each momentum block\n",
    "    for i in 1:length(blocks)\n",
    "        for e in energies[i]\n",
    "            scatter!(ax, i, e, color = :blue, marker=:hline)\n",
    "        end\n",
    "    end\n",
    "    xlims!(-0.2, 1.2+length(blocks))\n",
    "    fig\n",
    "end"
   ]
  },
  {
   "cell_type": "code",
   "execution_count": null,
   "id": "be18398b",
   "metadata": {},
   "outputs": [],
   "source": [
    "# check energies explicitly to see if there's degeneracy in the same momentum sector.\n",
    "bn = 1 # the block number to inspect\n",
    "energies[bn]"
   ]
  },
  {
   "cell_type": "markdown",
   "id": "2f1871be",
   "metadata": {},
   "source": [
    "Compute and plot one-body reduced density matric"
   ]
  },
  {
   "cell_type": "code",
   "execution_count": null,
   "id": "e4677358",
   "metadata": {},
   "outputs": [],
   "source": [
    "# plot the one-body reduced density matrix of the ground eigenstate in the first block\n",
    "rdm = ED_onebody_rdm(blocks[bn], vectors[bn][1])\n",
    "begin\n",
    "    fig = Figure();\n",
    "    ax = Axis(fig[1, 1]; yreversed = true)\n",
    "    hm = heatmap!(ax, abs.(rdm); colorrange = (0,1), \n",
    "        colormap = range(Makie.Colors.colorant\"white\", stop=Makie.Colors.colorant\"#ec2f41\", length=15)\n",
    "    )\n",
    "    Colorbar(fig[1, 2], hm)\n",
    "    fig\n",
    "end"
   ]
  },
  {
   "cell_type": "markdown",
   "id": "25b0d8c6",
   "metadata": {},
   "source": [
    "Compute the many-body connection and the Wilson loop for many-body Chern number."
   ]
  },
  {
   "cell_type": "code",
   "execution_count": null,
   "id": "78f4d728",
   "metadata": {},
   "outputs": [],
   "source": [
    "# Define the Landau level infinitesimal form factor\n",
    "function Landau_ff_inf(k_f, k_i, c=1)\n",
    "    dk = k_f .- k_i\n",
    "    k = 0.5 .* (k_f .+ k_i)\n",
    "    return -π * (k[1]*dk[2] - k[2]*dk[1])\n",
    "end\n",
    "para.FF_inf_angle = Landau_ff_inf; # Update the form factor in the parameter"
   ]
  },
  {
   "cell_type": "code",
   "execution_count": null,
   "id": "073f6799",
   "metadata": {},
   "outputs": [],
   "source": [
    "# boundary twist angle path (Wilson loop)\n",
    "N_shift = 2  # number of shifts along each edge\n",
    "shifts = Tuple{Float64, Float64}[(0.0, 0.0)]\n",
    "for i in 1:N_shift\n",
    "    push!(shifts, (i/N_shift, 0.0))\n",
    "end\n",
    "for i in 1:N_shift\n",
    "    push!(shifts, (1.0, i/N_shift))\n",
    "end\n",
    "for i in 1:N_shift\n",
    "    push!(shifts, ((N_shift - i)/N_shift, 1.0))\n",
    "end\n",
    "for i in 1:N_shift\n",
    "    push!(shifts, (0.0, (N_shift - i)/N_shift))\n",
    "end\n",
    "shifts"
   ]
  },
  {
   "cell_type": "markdown",
   "id": "44423f58",
   "metadata": {},
   "source": [
    "If there's only one ground state."
   ]
  },
  {
   "cell_type": "code",
   "execution_count": null,
   "id": "073f6799",
   "metadata": {},
   "outputs": [],
   "source": [
    "psi_before = copy(vectors[bn][1])\n",
    "psi_before *= cis(-angle(psi_before[1]))  # fix global phase\n",
    "\n",
    "WilsonLoopIntegral= Vector{Float64}(undef, 4N_shift)\n",
    "for i in eachindex(WilsonLoopIntegral)\n",
    "\n",
    "    println(\"k_shift #$i \\t $(shifts[i+1])\")\n",
    "\n",
    "    # one-body term is all zero and not changed by k-shift\n",
    "    scat_list2 = ED_sortedScatteringList_twobody(para; kshift = shifts[i+1]);\n",
    "    psi_after = EDsolve(blocks[bn], scat_list2; N = 1,\n",
    "        showtime = true,\n",
    "    )[2][1]\n",
    "    psi_after *= cis(-angle(psi_after[1]))  # fix global phase\n",
    "\n",
    "    WilsonLoopIntegral[i] = ED_connection_step(blocks[bn], \n",
    "        psi_after, psi_before, shifts[i+1], shifts[i], para;\n",
    "        wavefunction_tol = 1e-8, print_amp = true,\n",
    "        amp_warn_tol = 0.7, amp_warn = true\n",
    "    )\n",
    "\n",
    "    psi_before = psi_after\n",
    "end\n",
    "ManyBodyChernNumber = sum(WilsonLoopIntegral) / (2π)"
   ]
  },
  {
   "cell_type": "markdown",
   "id": "61d37dae",
   "metadata": {},
   "source": [
    "If there're 3 ground states in the same total momentum section, we need to use multiple wavefunctions with non-Abelian calculation function."
   ]
  },
  {
   "cell_type": "code",
   "execution_count": null,
   "id": "d86c2efb",
   "metadata": {},
   "outputs": [],
   "source": [
    "psi_before = reduce(hcat, vectors[bn][1:3])\n",
    "for i in 1:3\n",
    "    psi_before[:, i] *= cis(-angle(psi_before[1, i]))  # fix global phase\n",
    "end\n",
    "\n",
    "using LinearAlgebra\n",
    "WilsonLoopIntegral= Array{ComplexF64, 3}(undef, 3, 3, 4N_shift)\n",
    "for i in axes(WilsonLoopIntegral, 3)\n",
    "\n",
    "    println(\"k_shift #$i \\t $(shifts[i+1])\")\n",
    "\n",
    "    if shifts[i+1] == (0.0, 0.0)\n",
    "        psi_after = reduce(hcat, vectors[bn][1:3])\n",
    "        for i in 1:3\n",
    "            psi_after[:, i] *= cis(-angle(psi_after[1, i]))  # fix global phase\n",
    "        end\n",
    "    else\n",
    "        # one-body term is all zero and not changed by k-shift\n",
    "        scat_list2 = ED_sortedScatteringList_twobody(para; kshift = shifts[i+1]);\n",
    "        vecs = EDsolve(blocks[bn], scat_list2; N = 6,\n",
    "            showtime = false, #vec0 = psi_before[:, 1],\n",
    "        )[2][1:3]\n",
    "        psi_after = reduce(hcat, vecs)\n",
    "        for j in 1:3\n",
    "            psi_after[:, j] *= cis(-angle(psi_after[1, j]))  # fix global phase\n",
    "        end\n",
    "    end\n",
    "\n",
    "    WilsonLoopIntegral[:, :, i] = ED_NAconnection_step(blocks[bn],\n",
    "        psi_after, psi_before, shifts[i+1], shifts[i], para;\n",
    "        wavefunction_tol = 1e-8, print_amp = true,\n",
    "        amp_warn_tol = 0.7, amp_warn = true\n",
    "    )\n",
    "\n",
    "    psi_before = psi_after\n",
    "end\n",
    "ManyBodyChernNumber = sum(WilsonLoopIntegral, dims = 3) ./ (2π)\n",
    "eigvals(ManyBodyChernNumber[:,:,1])"
   ]
  },
  {
   "cell_type": "code",
   "execution_count": null,
   "id": "161625bc",
   "metadata": {},
   "outputs": [],
   "source": [
    "real.(ManyBodyChernNumber)"
   ]
  },
  {
   "cell_type": "code",
   "execution_count": null,
   "id": "d227a1cb",
   "metadata": {},
   "outputs": [],
   "source": [
    "imag.(ManyBodyChernNumber)"
   ]
  },
  {
   "cell_type": "code",
   "execution_count": null,
   "id": "d0734642",
   "metadata": {},
   "outputs": [],
   "source": [
    "using LinearAlgebra\n",
    "⊗ = kron\n",
    "[1; 0; 0] ⊗ vectors[1][1]"
   ]
  },
  {
   "cell_type": "code",
   "execution_count": null,
   "id": "d253878d",
   "metadata": {},
   "outputs": [],
   "source": []
  }
 ],
 "metadata": {
  "kernelspec": {
   "display_name": "Julia 1.11.7",
   "language": "julia",
   "name": "julia-1.11"
  },
  "language_info": {
   "file_extension": ".jl",
   "mimetype": "application/julia",
   "name": "julia",
   "version": "1.11.7"
  }
 },
 "nbformat": 4,
 "nbformat_minor": 5
}
